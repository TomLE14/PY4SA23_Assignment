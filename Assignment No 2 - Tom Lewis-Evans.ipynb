{
 "cells": [
  {
   "cell_type": "markdown",
   "id": "ed018e9d-5bb5-4ffa-b500-0c005099930f",
   "metadata": {},
   "source": [
    "# Lab Assignment 2 - Tom Lewis-Evans"
   ]
  },
  {
   "cell_type": "markdown",
   "id": "dea541f3-33fe-49c5-bfdc-60561876cd0b",
   "metadata": {},
   "source": [
    "## Student code: 200012357"
   ]
  },
  {
   "cell_type": "markdown",
   "id": "205cba91-371d-4b62-9a1f-6941e5bf9e6f",
   "metadata": {},
   "source": [
    "### Github repositry: https://github.com/TomLE14/PY4SA23_Assignment.git"
   ]
  },
  {
   "cell_type": "markdown",
   "id": "f4628de4-fdfd-4f4a-aeeb-bf5bc6b550f6",
   "metadata": {},
   "source": [
    "## Assignment tasks"
   ]
  },
  {
   "cell_type": "markdown",
   "id": "06141bc6-198e-4cf4-a86b-3483c7a88c84",
   "metadata": {},
   "source": [
    "##### Task 1: Create an If...Else statement that will test whether a number is divisible by three. \"YOUR\n",
    "VALUE is divisible by 3\" should be printed if the value is divisible by three. \"YOUR VALUE is not\n",
    "divisible by three\" should be printed if it is not divisible by three. Test the statement on a numeric\n",
    "variable. Upper case text in the print statement should be replaced with the tested number."
   ]
  },
  {
   "cell_type": "code",
   "execution_count": 15,
   "id": "f1cdfe78-c4eb-4943-b4dd-00ad6f08036e",
   "metadata": {},
   "outputs": [
    {
     "name": "stdout",
     "output_type": "stream",
     "text": [
      "5 Your value is not divisble by three.\n"
     ]
    }
   ],
   "source": [
    "x = 5\n",
    "if x % 3 == 0:\n",
    "    print(str(x) +  \" Value is divisible by 3\")\n",
    "elif x % 3 != 0:\n",
    "     print(str(x) + \" Your value is not divisble by three.\")\n",
    "        "
   ]
  },
  {
   "cell_type": "code",
   "execution_count": 17,
   "id": "251673ec-95e7-4d20-b670-b99410bbcc5a",
   "metadata": {},
   "outputs": [
    {
     "name": "stdout",
     "output_type": "stream",
     "text": [
      "5 Your value is not divisble by three.\n"
     ]
    }
   ],
   "source": [
    "x = 5\n",
    "if x % 3 == 0:\n",
    "    print(str(x) +  \" Value is divisible by 3\")\n",
    "elif x % 3 != 0:\n",
    "     print(str(x) + \" Your value is not divisble by three.\")\n",
    "        "
   ]
  }
 ],
 "metadata": {
  "kernelspec": {
   "display_name": "Python 3 (ipykernel)",
   "language": "python",
   "name": "python3"
  },
  "language_info": {
   "codemirror_mode": {
    "name": "ipython",
    "version": 3
   },
   "file_extension": ".py",
   "mimetype": "text/x-python",
   "name": "python",
   "nbconvert_exporter": "python",
   "pygments_lexer": "ipython3",
   "version": "3.10.9"
  }
 },
 "nbformat": 4,
 "nbformat_minor": 5
}
