{
 "cells": [
  {
   "cell_type": "markdown",
   "id": "ed018e9d-5bb5-4ffa-b500-0c005099930f",
   "metadata": {},
   "source": [
    "# Lab Assignment 2 - Tom Lewis-Evans"
   ]
  },
  {
   "cell_type": "markdown",
   "id": "dea541f3-33fe-49c5-bfdc-60561876cd0b",
   "metadata": {},
   "source": [
    "## Student code: 200012357"
   ]
  },
  {
   "cell_type": "markdown",
   "id": "205cba91-371d-4b62-9a1f-6941e5bf9e6f",
   "metadata": {},
   "source": [
    "### Github repositry: https://github.com/TomLE14/PY4SA23_Assignment.git"
   ]
  }
 ],
 "metadata": {
  "kernelspec": {
   "display_name": "Python 3 (ipykernel)",
   "language": "python",
   "name": "python3"
  },
  "language_info": {
   "codemirror_mode": {
    "name": "ipython",
    "version": 3
   },
   "file_extension": ".py",
   "mimetype": "text/x-python",
   "name": "python",
   "nbconvert_exporter": "python",
   "pygments_lexer": "ipython3",
   "version": "3.10.9"
  }
 },
 "nbformat": 4,
 "nbformat_minor": 5
}
