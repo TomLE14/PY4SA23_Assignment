{
 "cells": [
  {
   "cell_type": "markdown",
   "id": "ed018e9d-5bb5-4ffa-b500-0c005099930f",
   "metadata": {},
   "source": [
    "# Lab Assignment 2 - Tom Lewis-Evans"
   ]
  },
  {
   "cell_type": "markdown",
   "id": "dea541f3-33fe-49c5-bfdc-60561876cd0b",
   "metadata": {},
   "source": [
    "## Student code: 200012357"
   ]
  },
  {
   "cell_type": "markdown",
   "id": "205cba91-371d-4b62-9a1f-6941e5bf9e6f",
   "metadata": {},
   "source": [
    "### Github repositry: https://github.com/TomLE14/PY4SA23_Assignment.git"
   ]
  },
  {
   "cell_type": "markdown",
   "id": "f4628de4-fdfd-4f4a-aeeb-bf5bc6b550f6",
   "metadata": {},
   "source": [
    "## Assignment tasks"
   ]
  },
  {
   "cell_type": "markdown",
   "id": "06141bc6-198e-4cf4-a86b-3483c7a88c84",
   "metadata": {},
   "source": [
    "##### Task 1: Create an If...Else statement that will test whether a number is divisible by three. \n",
    "\"YOUR VALUE is divisible by 3\" should be printed if the value is divisible by three. \"YOUR VALUE is not\n",
    "divisible by three\" should be printed if it is not divisible by three. Test the statement on a numeric\n",
    "variable. Upper case text in the print statement should be replaced with the tested number."
   ]
  },
  {
   "cell_type": "code",
   "execution_count": 19,
   "id": "251673ec-95e7-4d20-b670-b99410bbcc5a",
   "metadata": {},
   "outputs": [
    {
     "name": "stdout",
     "output_type": "stream",
     "text": [
      "5 is not divisble by 3.\n"
     ]
    }
   ],
   "source": [
    "x = 5\n",
    "if x % 3 == 0:\n",
    "    print(str(x) +  \" is divisible by 3\")\n",
    "elif x % 3 != 0:\n",
    "     print(str(x) + \" is not divisble by 3.\")\n",
    "        "
   ]
  },
  {
   "cell_type": "markdown",
   "id": "5d5ae0fb-60ce-4dea-abbe-d644cb2020d5",
   "metadata": {},
   "source": [
    "##### Task 2: Create an If...Else statement that will test whether a type of fruit, represented as a text string,is in a list of acceptable fruits (apple, orange, pear, kiwi, or strawberry). \n",
    "\n",
    "If the fruit is on the list, the following should be printed: \"YOUR FRUIT is acceptable.\" If not, then the following should be printed: \"YOUR FRUIT is not acceptable.\" Upper case text in the print statement should be replaced\n",
    "with the tested fruit.\n"
   ]
  },
  {
   "cell_type": "code",
   "execution_count": 37,
   "id": "a73ca81c-f30c-40e0-b95d-ff9878e04e03",
   "metadata": {},
   "outputs": [
    {
     "name": "stdout",
     "output_type": "stream",
     "text": [
      "apple is not acceptable.\n",
      "orange is not acceptable.\n",
      "pear is not acceptable.\n",
      "kiwi is not acceptable.\n",
      "strawberry is not acceptable.\n"
     ]
    }
   ],
   "source": [
    "Fruits = [\"apple\", \"orange\", \"pear\", \"kiwi\", \"strawberry\"]\n",
    "\n",
    "for item in Fruits:\n",
    "    if item == Fruits:\n",
    "        print(str(item) + \" is acceptable.\")\n",
    "    elif item != Fruits:\n",
    "        print(str(item) + \" is not acceptable.\")"
   ]
  },
  {
   "cell_type": "code",
   "execution_count": 44,
   "id": "949ffd94-0b9f-4e8b-92c5-b8f40a91b360",
   "metadata": {},
   "outputs": [
    {
     "name": "stdout",
     "output_type": "stream",
     "text": [
      "apple is not acceptable.\n",
      "orange is not acceptable.\n",
      "pear is not acceptable.\n",
      "kiwi is not acceptable.\n",
      "strawberry is not acceptable.\n"
     ]
    }
   ],
   "source": [
    "Fruits = [\"apple\", \"orange\", \"pear\", \"kiwi\", \"strawberry\"]\n",
    "for item in Fruits:\n",
    "    if item == [\"apple\", \"orange\", \"pear\", \"kiwi\", \"strawberry\"]:\n",
    "        print(str(item) + \" is acceptable.\")\n",
    "    elif item != [\"apple\", \"orange\", \"pear\", \"kiwi\", \"strawberry\"]:\n",
    "        print(str(item) + \" is not acceptable.\")"
   ]
  },
  {
   "cell_type": "markdown",
   "id": "6d03a27e-8545-432a-a955-5621b8253a17",
   "metadata": {},
   "source": [
    "##### Task 3: Create a function to calculate the distance between two coordinates using the haversine formula. \n",
    "\n",
    "Write the following formula where the input parameters are a pair of coordinates as two\n",
    "lists."
   ]
  },
  {
   "cell_type": "code",
   "execution_count": 27,
   "id": "448bf8f0-1fb6-4c86-b29a-f184456e526f",
   "metadata": {},
   "outputs": [
    {
     "name": "stdout",
     "output_type": "stream",
     "text": [
      "Requirement already satisfied: haversine in c:\\users\\user\\miniconda3\\envs\\py4sa\\lib\\site-packages (2.8.0)\n"
     ]
    }
   ],
   "source": [
    "!pip install haversine"
   ]
  },
  {
   "cell_type": "code",
   "execution_count": 28,
   "id": "bcad69f7-cc0e-4aa4-a745-61f1aa184c2b",
   "metadata": {},
   "outputs": [],
   "source": [
    "import haversine as hs"
   ]
  },
  {
   "cell_type": "code",
   "execution_count": 31,
   "id": "961191af-4b79-452f-8fa4-a3c78d61db62",
   "metadata": {},
   "outputs": [
    {
     "data": {
      "text/plain": [
       "1929.5087726224149"
      ]
     },
     "execution_count": 31,
     "metadata": {},
     "output_type": "execute_result"
    }
   ],
   "source": [
    "loc1=(41.89193, 12.51133)\n",
    "loc2=(55.953251,-3.188267)\n",
    "hs.haversine(loc1,loc2)"
   ]
  },
  {
   "cell_type": "code",
   "execution_count": 32,
   "id": "2a65ed61-1d1d-480c-836f-4dccbe6c7247",
   "metadata": {},
   "outputs": [
    {
     "data": {
      "text/plain": [
       "1929508.7726224149"
      ]
     },
     "execution_count": 32,
     "metadata": {},
     "output_type": "execute_result"
    }
   ],
   "source": [
    "from haversine import Unit\n",
    "#To calculate distance in meters \n",
    "hs.haversine(loc1,loc2,unit=Unit.METERS)"
   ]
  }
 ],
 "metadata": {
  "kernelspec": {
   "display_name": "Python 3 (ipykernel)",
   "language": "python",
   "name": "python3"
  },
  "language_info": {
   "codemirror_mode": {
    "name": "ipython",
    "version": 3
   },
   "file_extension": ".py",
   "mimetype": "text/x-python",
   "name": "python",
   "nbconvert_exporter": "python",
   "pygments_lexer": "ipython3",
   "version": "3.10.9"
  }
 },
 "nbformat": 4,
 "nbformat_minor": 5
}
