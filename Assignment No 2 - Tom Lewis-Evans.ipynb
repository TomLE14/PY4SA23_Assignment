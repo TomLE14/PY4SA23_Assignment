{
 "cells": [
  {
   "cell_type": "markdown",
   "id": "ed018e9d-5bb5-4ffa-b500-0c005099930f",
   "metadata": {},
   "source": [
    "# Lab Assignment 2 - Tom Lewis-Evans"
   ]
  },
  {
   "cell_type": "markdown",
   "id": "dea541f3-33fe-49c5-bfdc-60561876cd0b",
   "metadata": {},
   "source": [
    "## Student code: 200012357"
   ]
  },
  {
   "cell_type": "markdown",
   "id": "205cba91-371d-4b62-9a1f-6941e5bf9e6f",
   "metadata": {},
   "source": [
    "### Github repositry: https://github.com/TomLE14/PY4SA23_Assignment.git"
   ]
  },
  {
   "cell_type": "markdown",
   "id": "f4628de4-fdfd-4f4a-aeeb-bf5bc6b550f6",
   "metadata": {},
   "source": [
    "## Assignment tasks"
   ]
  },
  {
   "cell_type": "markdown",
   "id": "06141bc6-198e-4cf4-a86b-3483c7a88c84",
   "metadata": {},
   "source": [
    "##### Task 1: Create an If...Else statement that will test whether a number is divisible by three. \n",
    "\"YOUR VALUE is divisible by 3\" should be printed if the value is divisible by three. \"YOUR VALUE is not\n",
    "divisible by three\" should be printed if it is not divisible by three. Test the statement on a numeric\n",
    "variable. Upper case text in the print statement should be replaced with the tested number."
   ]
  },
  {
   "cell_type": "code",
   "execution_count": 19,
   "id": "251673ec-95e7-4d20-b670-b99410bbcc5a",
   "metadata": {},
   "outputs": [
    {
     "name": "stdout",
     "output_type": "stream",
     "text": [
      "5 is not divisble by 3.\n"
     ]
    }
   ],
   "source": [
    "x = 5\n",
    "if x % 3 == 0:\n",
    "    print(str(x) +  \" is divisible by 3\")\n",
    "elif x % 3 != 0:\n",
    "     print(str(x) + \" is not divisble by 3.\")\n",
    "        "
   ]
  },
  {
   "cell_type": "markdown",
   "id": "5d5ae0fb-60ce-4dea-abbe-d644cb2020d5",
   "metadata": {},
   "source": [
    "##### Task 2: Create an If...Else statement that will test whether a type of fruit, represented as a text string,is in a list of acceptable fruits (apple, orange, pear, kiwi, or strawberry). \n",
    "\n",
    "If the fruit is on the list, the following should be printed: \"YOUR FRUIT is acceptable.\" If not, then the following should be printed: \"YOUR FRUIT is not acceptable.\" Upper case text in the print statement should be replaced\n",
    "with the tested fruit.\n"
   ]
  },
  {
   "cell_type": "code",
   "execution_count": 97,
   "id": "4bf1ed91-9780-4c4c-8f81-7bd9cb7265d6",
   "metadata": {},
   "outputs": [
    {
     "name": "stdout",
     "output_type": "stream",
     "text": [
      "banana is not acceptable\n"
     ]
    }
   ],
   "source": [
    "Fruits = [\"apple\", \"orange\", \"pear\", \"kiwi\", \"strawberry\"]\n",
    "item = \"banana\"\n",
    "if item in Fruits:\n",
    "    print(item + \" is acceptable\")\n",
    "else:\n",
    "    print(item + \" is not acceptable\")"
   ]
  },
  {
   "cell_type": "markdown",
   "id": "6d03a27e-8545-432a-a955-5621b8253a17",
   "metadata": {},
   "source": [
    "##### Task 3: Create a function to calculate the distance between two coordinates using the haversine formula. \n",
    "\n",
    "Write the following formula where the input parameters are a pair of coordinates as two\n",
    "lists."
   ]
  },
  {
   "cell_type": "code",
   "execution_count": 28,
   "id": "bcad69f7-cc0e-4aa4-a745-61f1aa184c2b",
   "metadata": {},
   "outputs": [],
   "source": [
    "import haversine as hs"
   ]
  },
  {
   "cell_type": "code",
   "execution_count": 55,
   "id": "5b735976-628d-410c-ac97-6cd20542e80a",
   "metadata": {},
   "outputs": [
    {
     "name": "stdout",
     "output_type": "stream",
     "text": [
      "1929.5061074750681 KM\n"
     ]
    }
   ],
   "source": [
    "from math import radians, cos, sin, asin, sqrt\n",
    "# Python 3 program to calculate Distance Between Two Points on Earth\n",
    "from math import radians, cos, sin, asin, sqrt\n",
    "def distance(lat1, lat2, lon1, lon2):\n",
    "     \n",
    "    # The math module contains a function named\n",
    "    # radians which converts from degrees to radians.\n",
    "    lon1 = radians(lon1)\n",
    "    lon2 = radians(lon2)\n",
    "    lat1 = radians(lat1)\n",
    "    lat2 = radians(lat2)\n",
    "      \n",
    "    # Haversine formula\n",
    "    dlon = lon2 - lon1\n",
    "    dlat = lat2 - lat1\n",
    "    a = sin(dlat / 2)**2 + cos(lat1) * cos(lat2) * sin(dlon / 2)**2\n",
    " \n",
    "    c = 2 * asin(sqrt(a))\n",
    "    \n",
    "    # Radius of earth in kilometers. Use 3956 for miles\n",
    "    r = 6371\n",
    "      \n",
    "    # calculate the result\n",
    "    return(c * r)\n",
    "     \n",
    "     \n",
    "# driver code\n",
    "lat1 = 41.89193\n",
    "lat2 = 55.953251\n",
    "lon1 = 12.51133\n",
    "lon2 = -3.188267\n",
    "print(distance(lat1, lat2, lon1, lon2), \"KM\")\n"
   ]
  },
  {
   "cell_type": "markdown",
   "id": "bcba637a-a840-4745-bb8c-ca37d317bcd8",
   "metadata": {},
   "source": [
    "### Pandas and Numpy Tasks"
   ]
  },
  {
   "cell_type": "markdown",
   "id": "e0de96bd-18d3-421a-97a9-57040cd221cb",
   "metadata": {},
   "source": [
    "##### This exercise focuses on the use of Pandas to query and summarise data. You will need to import the NumPy and Pandas libraries.\n",
    "\n",
    "Produce code to answer the questions below. Deliver your results\n",
    "in a Jupyter Notebook. Make sure all questions and answers are clearly labelled.\n",
    "The portland_park_trees.csv file contains information about individual trees in city parks in\n",
    "Portland, Oregon. These data were obtained from the City of Portland Office of Parks &\n",
    "Recreation (https://www.portlandoregon.gov/parks/article/433143)."
   ]
  },
  {
   "cell_type": "code",
   "execution_count": 3,
   "id": "28b6afde-123a-4c8e-bdec-bf07c3998adf",
   "metadata": {},
   "outputs": [],
   "source": [
    "import numpy as np\n",
    "import pandas as pd"
   ]
  },
  {
   "cell_type": "code",
   "execution_count": 4,
   "id": "47c7ea1e-4ab9-4584-ab17-0401f95a875a",
   "metadata": {
    "tags": []
   },
   "outputs": [
    {
     "data": {
      "text/html": [
       "<div>\n",
       "<style scoped>\n",
       "    .dataframe tbody tr th:only-of-type {\n",
       "        vertical-align: middle;\n",
       "    }\n",
       "\n",
       "    .dataframe tbody tr th {\n",
       "        vertical-align: top;\n",
       "    }\n",
       "\n",
       "    .dataframe thead th {\n",
       "        text-align: right;\n",
       "    }\n",
       "</style>\n",
       "<table border=\"1\" class=\"dataframe\">\n",
       "  <thead>\n",
       "    <tr style=\"text-align: right;\">\n",
       "      <th></th>\n",
       "      <th>fid</th>\n",
       "      <th>OBJECTID</th>\n",
       "      <th>Inventory_</th>\n",
       "      <th>Species</th>\n",
       "      <th>DBH</th>\n",
       "      <th>Condition</th>\n",
       "      <th>TreeHeight</th>\n",
       "      <th>CrownWidth</th>\n",
       "      <th>CrownWid_1</th>\n",
       "      <th>CollectedB</th>\n",
       "      <th>...</th>\n",
       "      <th>Genus</th>\n",
       "      <th>Common_nam</th>\n",
       "      <th>Genus_spec</th>\n",
       "      <th>Functional</th>\n",
       "      <th>Size</th>\n",
       "      <th>Native</th>\n",
       "      <th>Edible</th>\n",
       "      <th>Nuisance</th>\n",
       "      <th>Origin</th>\n",
       "      <th>Species_fa</th>\n",
       "    </tr>\n",
       "  </thead>\n",
       "  <tbody>\n",
       "    <tr>\n",
       "      <th>0</th>\n",
       "      <td>1</td>\n",
       "      <td>426</td>\n",
       "      <td>2017/05/09</td>\n",
       "      <td>PSME</td>\n",
       "      <td>37.4</td>\n",
       "      <td>Fair</td>\n",
       "      <td>105.0</td>\n",
       "      <td>44.0</td>\n",
       "      <td>57.0</td>\n",
       "      <td>staff</td>\n",
       "      <td>...</td>\n",
       "      <td>Pseudotsuga</td>\n",
       "      <td>Douglas-fir</td>\n",
       "      <td>Pseudotsuga menziesii</td>\n",
       "      <td>CE</td>\n",
       "      <td>L</td>\n",
       "      <td>Yes</td>\n",
       "      <td>NaN</td>\n",
       "      <td>NaN</td>\n",
       "      <td>North America - from British Columbia south to...</td>\n",
       "      <td>Bracts on cones look like a mouse's feet and t...</td>\n",
       "    </tr>\n",
       "    <tr>\n",
       "      <th>1</th>\n",
       "      <td>2</td>\n",
       "      <td>427</td>\n",
       "      <td>2017/05/09</td>\n",
       "      <td>PSME</td>\n",
       "      <td>32.5</td>\n",
       "      <td>Fair</td>\n",
       "      <td>94.0</td>\n",
       "      <td>49.0</td>\n",
       "      <td>45.0</td>\n",
       "      <td>staff</td>\n",
       "      <td>...</td>\n",
       "      <td>Pseudotsuga</td>\n",
       "      <td>Douglas-fir</td>\n",
       "      <td>Pseudotsuga menziesii</td>\n",
       "      <td>CE</td>\n",
       "      <td>L</td>\n",
       "      <td>Yes</td>\n",
       "      <td>NaN</td>\n",
       "      <td>NaN</td>\n",
       "      <td>North America - from British Columbia south to...</td>\n",
       "      <td>Bracts on cones look like a mouse's feet and t...</td>\n",
       "    </tr>\n",
       "    <tr>\n",
       "      <th>2</th>\n",
       "      <td>3</td>\n",
       "      <td>428</td>\n",
       "      <td>2017/05/09</td>\n",
       "      <td>CRLA</td>\n",
       "      <td>9.7</td>\n",
       "      <td>Fair</td>\n",
       "      <td>23.0</td>\n",
       "      <td>28.0</td>\n",
       "      <td>27.0</td>\n",
       "      <td>staff</td>\n",
       "      <td>...</td>\n",
       "      <td>Crataegus</td>\n",
       "      <td>Lavalle hawthorn</td>\n",
       "      <td>Crataegus x lavalleei</td>\n",
       "      <td>BD</td>\n",
       "      <td>S</td>\n",
       "      <td>No</td>\n",
       "      <td>NaN</td>\n",
       "      <td>NaN</td>\n",
       "      <td>North America - a hybrid between a Mexican and...</td>\n",
       "      <td>Like most hawthorns, the tree has stout thorns...</td>\n",
       "    </tr>\n",
       "    <tr>\n",
       "      <th>3</th>\n",
       "      <td>4</td>\n",
       "      <td>429</td>\n",
       "      <td>2017/05/09</td>\n",
       "      <td>QURU</td>\n",
       "      <td>10.3</td>\n",
       "      <td>Poor</td>\n",
       "      <td>28.0</td>\n",
       "      <td>38.0</td>\n",
       "      <td>31.0</td>\n",
       "      <td>staff</td>\n",
       "      <td>...</td>\n",
       "      <td>Quercus</td>\n",
       "      <td>northern red oak</td>\n",
       "      <td>Quercus rubra</td>\n",
       "      <td>BD</td>\n",
       "      <td>L</td>\n",
       "      <td>No</td>\n",
       "      <td>NaN</td>\n",
       "      <td>NaN</td>\n",
       "      <td>North America - eastern Canada and eastern USA...</td>\n",
       "      <td>Acorns take two years to mature and are an imp...</td>\n",
       "    </tr>\n",
       "    <tr>\n",
       "      <th>4</th>\n",
       "      <td>5</td>\n",
       "      <td>430</td>\n",
       "      <td>2017/05/09</td>\n",
       "      <td>PSME</td>\n",
       "      <td>33.2</td>\n",
       "      <td>Fair</td>\n",
       "      <td>102.0</td>\n",
       "      <td>43.0</td>\n",
       "      <td>44.0</td>\n",
       "      <td>staff</td>\n",
       "      <td>...</td>\n",
       "      <td>Pseudotsuga</td>\n",
       "      <td>Douglas-fir</td>\n",
       "      <td>Pseudotsuga menziesii</td>\n",
       "      <td>CE</td>\n",
       "      <td>L</td>\n",
       "      <td>Yes</td>\n",
       "      <td>NaN</td>\n",
       "      <td>NaN</td>\n",
       "      <td>North America - from British Columbia south to...</td>\n",
       "      <td>Bracts on cones look like a mouse's feet and t...</td>\n",
       "    </tr>\n",
       "    <tr>\n",
       "      <th>5</th>\n",
       "      <td>6</td>\n",
       "      <td>431</td>\n",
       "      <td>2017/05/09</td>\n",
       "      <td>PSME</td>\n",
       "      <td>32.1</td>\n",
       "      <td>Fair</td>\n",
       "      <td>95.0</td>\n",
       "      <td>35.0</td>\n",
       "      <td>39.0</td>\n",
       "      <td>staff</td>\n",
       "      <td>...</td>\n",
       "      <td>Pseudotsuga</td>\n",
       "      <td>Douglas-fir</td>\n",
       "      <td>Pseudotsuga menziesii</td>\n",
       "      <td>CE</td>\n",
       "      <td>L</td>\n",
       "      <td>Yes</td>\n",
       "      <td>NaN</td>\n",
       "      <td>NaN</td>\n",
       "      <td>North America - from British Columbia south to...</td>\n",
       "      <td>Bracts on cones look like a mouse's feet and t...</td>\n",
       "    </tr>\n",
       "    <tr>\n",
       "      <th>6</th>\n",
       "      <td>7</td>\n",
       "      <td>432</td>\n",
       "      <td>2017/05/09</td>\n",
       "      <td>PSME</td>\n",
       "      <td>28.4</td>\n",
       "      <td>Fair</td>\n",
       "      <td>103.0</td>\n",
       "      <td>40.0</td>\n",
       "      <td>40.0</td>\n",
       "      <td>staff</td>\n",
       "      <td>...</td>\n",
       "      <td>Pseudotsuga</td>\n",
       "      <td>Douglas-fir</td>\n",
       "      <td>Pseudotsuga menziesii</td>\n",
       "      <td>CE</td>\n",
       "      <td>L</td>\n",
       "      <td>Yes</td>\n",
       "      <td>NaN</td>\n",
       "      <td>NaN</td>\n",
       "      <td>North America - from British Columbia south to...</td>\n",
       "      <td>Bracts on cones look like a mouse's feet and t...</td>\n",
       "    </tr>\n",
       "    <tr>\n",
       "      <th>7</th>\n",
       "      <td>8</td>\n",
       "      <td>433</td>\n",
       "      <td>2017/05/09</td>\n",
       "      <td>PSME</td>\n",
       "      <td>27.2</td>\n",
       "      <td>Fair</td>\n",
       "      <td>105.0</td>\n",
       "      <td>45.0</td>\n",
       "      <td>29.0</td>\n",
       "      <td>staff</td>\n",
       "      <td>...</td>\n",
       "      <td>Pseudotsuga</td>\n",
       "      <td>Douglas-fir</td>\n",
       "      <td>Pseudotsuga menziesii</td>\n",
       "      <td>CE</td>\n",
       "      <td>L</td>\n",
       "      <td>Yes</td>\n",
       "      <td>NaN</td>\n",
       "      <td>NaN</td>\n",
       "      <td>North America - from British Columbia south to...</td>\n",
       "      <td>Bracts on cones look like a mouse's feet and t...</td>\n",
       "    </tr>\n",
       "    <tr>\n",
       "      <th>8</th>\n",
       "      <td>9</td>\n",
       "      <td>434</td>\n",
       "      <td>2017/05/09</td>\n",
       "      <td>PSME</td>\n",
       "      <td>35.2</td>\n",
       "      <td>Fair</td>\n",
       "      <td>97.0</td>\n",
       "      <td>56.0</td>\n",
       "      <td>45.0</td>\n",
       "      <td>staff</td>\n",
       "      <td>...</td>\n",
       "      <td>Pseudotsuga</td>\n",
       "      <td>Douglas-fir</td>\n",
       "      <td>Pseudotsuga menziesii</td>\n",
       "      <td>CE</td>\n",
       "      <td>L</td>\n",
       "      <td>Yes</td>\n",
       "      <td>NaN</td>\n",
       "      <td>NaN</td>\n",
       "      <td>North America - from British Columbia south to...</td>\n",
       "      <td>Bracts on cones look like a mouse's feet and t...</td>\n",
       "    </tr>\n",
       "    <tr>\n",
       "      <th>9</th>\n",
       "      <td>10</td>\n",
       "      <td>435</td>\n",
       "      <td>2017/05/09</td>\n",
       "      <td>PSME</td>\n",
       "      <td>32.4</td>\n",
       "      <td>Fair</td>\n",
       "      <td>112.0</td>\n",
       "      <td>35.0</td>\n",
       "      <td>33.0</td>\n",
       "      <td>staff</td>\n",
       "      <td>...</td>\n",
       "      <td>Pseudotsuga</td>\n",
       "      <td>Douglas-fir</td>\n",
       "      <td>Pseudotsuga menziesii</td>\n",
       "      <td>CE</td>\n",
       "      <td>L</td>\n",
       "      <td>Yes</td>\n",
       "      <td>NaN</td>\n",
       "      <td>NaN</td>\n",
       "      <td>North America - from British Columbia south to...</td>\n",
       "      <td>Bracts on cones look like a mouse's feet and t...</td>\n",
       "    </tr>\n",
       "  </tbody>\n",
       "</table>\n",
       "<p>10 rows × 40 columns</p>\n",
       "</div>"
      ],
      "text/plain": [
       "   fid  OBJECTID  Inventory_ Species   DBH Condition  TreeHeight  CrownWidth  \\\n",
       "0    1       426  2017/05/09    PSME  37.4      Fair       105.0        44.0   \n",
       "1    2       427  2017/05/09    PSME  32.5      Fair        94.0        49.0   \n",
       "2    3       428  2017/05/09    CRLA   9.7      Fair        23.0        28.0   \n",
       "3    4       429  2017/05/09    QURU  10.3      Poor        28.0        38.0   \n",
       "4    5       430  2017/05/09    PSME  33.2      Fair       102.0        43.0   \n",
       "5    6       431  2017/05/09    PSME  32.1      Fair        95.0        35.0   \n",
       "6    7       432  2017/05/09    PSME  28.4      Fair       103.0        40.0   \n",
       "7    8       433  2017/05/09    PSME  27.2      Fair       105.0        45.0   \n",
       "8    9       434  2017/05/09    PSME  35.2      Fair        97.0        56.0   \n",
       "9   10       435  2017/05/09    PSME  32.4      Fair       112.0        35.0   \n",
       "\n",
       "   CrownWid_1 CollectedB  ...        Genus        Common_nam  \\\n",
       "0        57.0      staff  ...  Pseudotsuga       Douglas-fir   \n",
       "1        45.0      staff  ...  Pseudotsuga       Douglas-fir   \n",
       "2        27.0      staff  ...    Crataegus  Lavalle hawthorn   \n",
       "3        31.0      staff  ...      Quercus  northern red oak   \n",
       "4        44.0      staff  ...  Pseudotsuga       Douglas-fir   \n",
       "5        39.0      staff  ...  Pseudotsuga       Douglas-fir   \n",
       "6        40.0      staff  ...  Pseudotsuga       Douglas-fir   \n",
       "7        29.0      staff  ...  Pseudotsuga       Douglas-fir   \n",
       "8        45.0      staff  ...  Pseudotsuga       Douglas-fir   \n",
       "9        33.0      staff  ...  Pseudotsuga       Douglas-fir   \n",
       "\n",
       "              Genus_spec Functional Size Native Edible Nuisance  \\\n",
       "0  Pseudotsuga menziesii         CE    L    Yes    NaN      NaN   \n",
       "1  Pseudotsuga menziesii         CE    L    Yes    NaN      NaN   \n",
       "2  Crataegus x lavalleei         BD    S     No    NaN      NaN   \n",
       "3          Quercus rubra         BD    L     No    NaN      NaN   \n",
       "4  Pseudotsuga menziesii         CE    L    Yes    NaN      NaN   \n",
       "5  Pseudotsuga menziesii         CE    L    Yes    NaN      NaN   \n",
       "6  Pseudotsuga menziesii         CE    L    Yes    NaN      NaN   \n",
       "7  Pseudotsuga menziesii         CE    L    Yes    NaN      NaN   \n",
       "8  Pseudotsuga menziesii         CE    L    Yes    NaN      NaN   \n",
       "9  Pseudotsuga menziesii         CE    L    Yes    NaN      NaN   \n",
       "\n",
       "                                              Origin  \\\n",
       "0  North America - from British Columbia south to...   \n",
       "1  North America - from British Columbia south to...   \n",
       "2  North America - a hybrid between a Mexican and...   \n",
       "3  North America - eastern Canada and eastern USA...   \n",
       "4  North America - from British Columbia south to...   \n",
       "5  North America - from British Columbia south to...   \n",
       "6  North America - from British Columbia south to...   \n",
       "7  North America - from British Columbia south to...   \n",
       "8  North America - from British Columbia south to...   \n",
       "9  North America - from British Columbia south to...   \n",
       "\n",
       "                                          Species_fa  \n",
       "0  Bracts on cones look like a mouse's feet and t...  \n",
       "1  Bracts on cones look like a mouse's feet and t...  \n",
       "2  Like most hawthorns, the tree has stout thorns...  \n",
       "3  Acorns take two years to mature and are an imp...  \n",
       "4  Bracts on cones look like a mouse's feet and t...  \n",
       "5  Bracts on cones look like a mouse's feet and t...  \n",
       "6  Bracts on cones look like a mouse's feet and t...  \n",
       "7  Bracts on cones look like a mouse's feet and t...  \n",
       "8  Bracts on cones look like a mouse's feet and t...  \n",
       "9  Bracts on cones look like a mouse's feet and t...  \n",
       "\n",
       "[10 rows x 40 columns]"
      ]
     },
     "execution_count": 4,
     "metadata": {},
     "output_type": "execute_result"
    }
   ],
   "source": [
    "trees_df = pd.read_csv(\"portland_park_trees.csv\", sep=\",\", header=0, encoding=\"ISO-8859-1\")\n",
    "trees_df.head(10)\n",
    "\n"
   ]
  },
  {
   "cell_type": "markdown",
   "id": "081e47b1-87a9-452c-ac92-04e722d20f26",
   "metadata": {},
   "source": [
    "##### Question 1: How many trees are of the Quercus or Acer Genus?"
   ]
  },
  {
   "cell_type": "code",
   "execution_count": 122,
   "id": "f0af8f35-91e0-4c20-91cb-5e8b15789f07",
   "metadata": {},
   "outputs": [
    {
     "name": "stdout",
     "output_type": "stream",
     "text": [
      "5675\n"
     ]
    }
   ],
   "source": [
    "subset_query = trees_df.query('Genus == \"Acer\" or Genus == \"Quercus\"')\n",
    "print(len(subset_query))"
   ]
  },
  {
   "cell_type": "markdown",
   "id": "7e6502e8-ce76-4fbc-9e62-e2571d720236",
   "metadata": {},
   "source": [
    "##### Question 2: How many trees are of the Quercus or Acer genus and have a DBH larger than 50 inches?"
   ]
  },
  {
   "cell_type": "code",
   "execution_count": 124,
   "id": "bdc53a70-5821-4bac-a59f-8d53becf3bd4",
   "metadata": {},
   "outputs": [
    {
     "name": "stdout",
     "output_type": "stream",
     "text": [
      "3666\n"
     ]
    }
   ],
   "source": [
    "subset_query2 = trees_df.query('Genus == \"Acer\" or Genus == \"Quercus\" and DBH > 50')\n",
    "print(len(subset_query2))          "
   ]
  },
  {
   "cell_type": "markdown",
   "id": "e7464f22-c538-48fe-895e-3a412561579c",
   "metadata": {},
   "source": [
    "##### Q3: Which genus has the highest mean DBH of the following genera: Quercus, Acer, or Fraxinus? "
   ]
  },
  {
   "cell_type": "code",
   "execution_count": 165,
   "id": "66409971-e73f-47c6-bc5b-26f3ca8c7706",
   "metadata": {},
   "outputs": [
    {
     "data": {
      "text/plain": [
       "Genus\n",
       "Acer        18.419085\n",
       "Fraxinus    11.033610\n",
       "Quercus     23.568238\n",
       "Name: DBH, dtype: float64"
      ]
     },
     "execution_count": 165,
     "metadata": {},
     "output_type": "execute_result"
    }
   ],
   "source": [
    "subset_query3 = trees_df.query('Genus == \"Acer\" or Genus == \"Quercus\" or Genus == \"Fraxinus\"')\n",
    "subset_query3.groupby(\"Genus\")['DBH'].mean()"
   ]
  },
  {
   "cell_type": "markdown",
   "id": "a92c2aae-cfc2-4ad5-a7ab-b5eb731802fa",
   "metadata": {},
   "source": [
    "##### Question 4: How many different species of trees are recorded in the Acer genus? "
   ]
  },
  {
   "cell_type": "code",
   "execution_count": 39,
   "id": "4d867f58-488b-447f-989c-59218e0a84e5",
   "metadata": {},
   "outputs": [
    {
     "name": "stdout",
     "output_type": "stream",
     "text": [
      "20\n"
     ]
    }
   ],
   "source": [
    "subset_query4 = trees_df[(trees_df[\"Genus\"]==\"Acer\")]\n",
    "trees_df.columns = [column.replace(\" \", \"_\") for column in trees_df.columns]\n",
    "subset_query5 = pd.DataFrame()\n",
    "subset_query5[\"Count\"] = subset_query4.groupby(\"Species\")['Genus'].count()\n",
    "print(len(subset_query5))\n",
    "\n"
   ]
  },
  {
   "cell_type": "markdown",
   "id": "8806ac3b-8afa-4093-a6a0-c7150b3e9010",
   "metadata": {},
   "source": [
    "##### Question 5:\n",
    "• Calculate a new column named \"pop_M\" (population in millions), by transforming the\n",
    "\"pop\" (population) column.\n",
    "\n",
    "• Remove the original \"pop\" column.\n",
    "\n",
    "• Choose/subset a city that starts with the same letter as your first name (for example,\n",
    "\"Mexico City\" if your first name is Michael).\n",
    "\n",
    "• Subset the five biggest (i.e., largest population sizes) cities from the country where your\n",
    "selected city is.\n",
    "\n",
    "• Print the result.\n",
    "\n",
    "• Make sure you write the scripts in different code cells where you describe the process."
   ]
  },
  {
   "cell_type": "code",
   "execution_count": null,
   "id": "2302f332-dc15-4e38-bb58-d9769207ff94",
   "metadata": {},
   "outputs": [],
   "source": []
  },
  {
   "cell_type": "markdown",
   "id": "9289ec76-b7f7-443c-90f6-c771b7c1a018",
   "metadata": {},
   "source": [
    "### Python Data Visualisation"
   ]
  },
  {
   "cell_type": "markdown",
   "id": "4e880c59-b2fa-47fb-ab48-729ec07096f6",
   "metadata": {},
   "source": [
    "##### Graph 1: \n",
    "\n",
    "Create a scatterplot for just trees in the Ulmus genus with DBH mapped to the x-axis\n",
    "and tree height mapped to the y-axis (Hint: You will need to use the “Genus”, “DBH”, and\n",
    "“TreeHeight” attributes.). "
   ]
  },
  {
   "cell_type": "code",
   "execution_count": null,
   "id": "de4176c6-4949-4c45-a25d-0ef0162678d0",
   "metadata": {},
   "outputs": [],
   "source": []
  },
  {
   "cell_type": "markdown",
   "id": "57248a6b-c571-4d30-92ab-3d71dfaf06da",
   "metadata": {},
   "source": [
    "##### Graph 2: \n",
    "Create a scatterplot for just trees in the Ulmus genus with DBH mapped to the x-axis, tree\n",
    "height mapped to the y-axis, and tree species mapped to hue (Hint: You will need to use the\n",
    "“Genus”, “Genus_spec”, “DBH”, and “TreeHeight” attributes.)"
   ]
  },
  {
   "cell_type": "code",
   "execution_count": null,
   "id": "714da15a-4c6c-4b56-adee-9b23046ded73",
   "metadata": {},
   "outputs": [],
   "source": []
  },
  {
   "cell_type": "markdown",
   "id": "cbdb83df-c410-4da0-a97d-d6e13ec62200",
   "metadata": {},
   "source": [
    "##### Graph 3: \n",
    "Create a boxplot of DBH for just the Ulmus genus differentiated by species (or, each species\n",
    "should have its own boxplot)."
   ]
  },
  {
   "cell_type": "code",
   "execution_count": null,
   "id": "29c403de-63cf-4021-a3b8-7bba609fbe47",
   "metadata": {},
   "outputs": [],
   "source": []
  },
  {
   "cell_type": "markdown",
   "id": "54f8751e-c77e-4e47-b576-a9f53c7f2179",
   "metadata": {},
   "source": [
    "##### Graph 4: \n",
    "Combine Graphs 1 and 3 into a single figure. Do not plot a legend for any of the graphs."
   ]
  },
  {
   "cell_type": "code",
   "execution_count": null,
   "id": "8fd7eb09-071a-4849-9fe3-e9b515965a0d",
   "metadata": {},
   "outputs": [],
   "source": []
  },
  {
   "cell_type": "markdown",
   "id": "7a715039-5efc-4744-97b0-08ad1929111f",
   "metadata": {},
   "source": [
    "### Python GeoPandas"
   ]
  },
  {
   "cell_type": "markdown",
   "id": "42742ac7-6e68-4ffa-96e9-57518cd4d195",
   "metadata": {},
   "source": [
    "##### Task 1: Read the selected dataset as GeoPandas DataFrame"
   ]
  },
  {
   "cell_type": "code",
   "execution_count": null,
   "id": "44e75c1f-3d2f-4a9d-998f-251616eabbae",
   "metadata": {},
   "outputs": [],
   "source": []
  },
  {
   "cell_type": "markdown",
   "id": "5062bcd1-ae6b-4b0e-ae37-9a2cf2035bc0",
   "metadata": {},
   "source": [
    "##### Task 2: Use the correct code to plot the first 5 and the last 5 sets of records in your selected dataset"
   ]
  },
  {
   "cell_type": "code",
   "execution_count": null,
   "id": "3288b56c-4805-437c-8fa4-b12ba58834d0",
   "metadata": {},
   "outputs": [],
   "source": []
  },
  {
   "cell_type": "markdown",
   "id": "6e50dcc3-6532-44db-954d-32d6a05a55e0",
   "metadata": {},
   "source": [
    "##### Task 3. Create a map where you can explore the selected dataset. Try to plot the map using some categorical attribute. Include a ToolTip."
   ]
  },
  {
   "cell_type": "code",
   "execution_count": null,
   "id": "acdef224-d92d-4f79-9a8b-b5fad3757881",
   "metadata": {},
   "outputs": [],
   "source": []
  },
  {
   "cell_type": "markdown",
   "id": "3b57cc8e-2272-4314-9c65-56f9e3757b8b",
   "metadata": {},
   "source": [
    "##### Task 4. What is the Coordinate Reference System of the selected dataset?"
   ]
  },
  {
   "cell_type": "code",
   "execution_count": null,
   "id": "3a8b8d77-0f1e-4ded-b8d2-ba647ad7a457",
   "metadata": {},
   "outputs": [],
   "source": []
  },
  {
   "cell_type": "markdown",
   "id": "a3329aff-031a-4bb8-bfb8-19e93d1832ef",
   "metadata": {},
   "source": [
    "##### Task 5. How many features does the selected dataset contain?"
   ]
  },
  {
   "cell_type": "code",
   "execution_count": null,
   "id": "a1358949-addc-4536-a9a4-d8ed24089deb",
   "metadata": {},
   "outputs": [],
   "source": []
  },
  {
   "cell_type": "markdown",
   "id": "2ae98056-59c1-44be-8187-4d2472571981",
   "metadata": {},
   "source": [
    "##### Task 6. Define a sub-setting criterion to create a new geopandas dataframe where you filter the\n",
    "selected dataset based on a categorical attribute."
   ]
  },
  {
   "cell_type": "code",
   "execution_count": null,
   "id": "cd717936-ec30-430c-b90c-9ffc345b0a7c",
   "metadata": {},
   "outputs": [],
   "source": []
  },
  {
   "cell_type": "markdown",
   "id": "fad592ab-b94e-42e5-9dc1-93e8b9967561",
   "metadata": {},
   "source": [
    "##### Task 7. Define a sub-setting criterion to create a new geopandas dataframe where you filter the selected dataset based on a numerical attribute"
   ]
  },
  {
   "cell_type": "code",
   "execution_count": null,
   "id": "71678035-5561-454b-a67a-e54597617a48",
   "metadata": {},
   "outputs": [],
   "source": []
  },
  {
   "cell_type": "markdown",
   "id": "0187b2f4-3fb1-4a71-a9fb-5f58c44d6aef",
   "metadata": {},
   "source": [
    "##### Task 8. Plot the new/filtered geopandas dataframe using one of the attributes to create a choropleth map."
   ]
  },
  {
   "cell_type": "code",
   "execution_count": null,
   "id": "a78194fb-c0e0-411c-97c6-3d2cbe0b44db",
   "metadata": {},
   "outputs": [],
   "source": []
  },
  {
   "cell_type": "markdown",
   "id": "d9da363c-c86f-4a76-ab98-b8a9d3a9106b",
   "metadata": {},
   "source": [
    "### Python Rasterio"
   ]
  },
  {
   "cell_type": "markdown",
   "id": "dc646b36-6711-4135-90b7-44d59a31e382",
   "metadata": {},
   "source": [
    "##### Task 1. Read the file as a rasterio dataset"
   ]
  },
  {
   "cell_type": "code",
   "execution_count": null,
   "id": "d8d36763-4ba2-47d6-afe4-3b1379076bf7",
   "metadata": {},
   "outputs": [],
   "source": []
  },
  {
   "cell_type": "markdown",
   "id": "6d734cdb-f6e1-4d6d-844f-c6039f4f00f9",
   "metadata": {},
   "source": [
    "##### Task 2: What is the CRS of the dataset?"
   ]
  },
  {
   "cell_type": "code",
   "execution_count": null,
   "id": "474ef51b-c104-4b26-9209-b40fcf91b31e",
   "metadata": {},
   "outputs": [],
   "source": []
  },
  {
   "cell_type": "markdown",
   "id": "a4d58d6c-ad27-4951-97d4-83c54533721c",
   "metadata": {},
   "source": [
    "##### Task 3: Describe the raster dataset regarding the raster extent (bounds), the reference system, and how many bands are in this dataset."
   ]
  },
  {
   "cell_type": "code",
   "execution_count": null,
   "id": "a764a85e-91f0-44e5-a75c-50f82d8e7696",
   "metadata": {},
   "outputs": [],
   "source": []
  },
  {
   "cell_type": "markdown",
   "id": "9a3ecf44-9aca-4753-b695-c5f27b453948",
   "metadata": {},
   "source": [
    "##### Task 4: Create a plot/map of the raster dataset."
   ]
  },
  {
   "cell_type": "code",
   "execution_count": null,
   "id": "71ca20ce-e76d-4f2d-8f75-aff3ccf117e4",
   "metadata": {},
   "outputs": [],
   "source": []
  },
  {
   "cell_type": "markdown",
   "id": "f4845cca-444a-4b28-9ba5-fea2055d6e93",
   "metadata": {},
   "source": [
    "##### Task 5: Create Histograms from the raster."
   ]
  },
  {
   "cell_type": "code",
   "execution_count": null,
   "id": "71d6bfe9-8063-44a8-8c50-5f96b6b031b2",
   "metadata": {},
   "outputs": [],
   "source": []
  }
 ],
 "metadata": {
  "kernelspec": {
   "display_name": "Python 3 (ipykernel)",
   "language": "python",
   "name": "python3"
  },
  "language_info": {
   "codemirror_mode": {
    "name": "ipython",
    "version": 3
   },
   "file_extension": ".py",
   "mimetype": "text/x-python",
   "name": "python",
   "nbconvert_exporter": "python",
   "pygments_lexer": "ipython3",
   "version": "3.10.9"
  }
 },
 "nbformat": 4,
 "nbformat_minor": 5
}
